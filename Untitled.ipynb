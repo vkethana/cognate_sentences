{
 "cells": [
  {
   "cell_type": "code",
   "execution_count": 36,
   "id": "4ad9a8d4-65e8-4fec-b25c-ca3fd14b8acf",
   "metadata": {},
   "outputs": [],
   "source": [
    "import re\n",
    "import unicodedata\n",
    "from Levenshtein import distance as lev_distance\n",
    "\n",
    "def get_edit_ratio(a, b):\n",
    "    # the levenshtein distance (minimum number of edit operations) between the two words.\n",
    "    # lower is better, as it implies the two words are cognate\n",
    "    a = strip_accents(a)\n",
    "    b = strip_accents(b)\n",
    "    dist = lev_distance(a, b)\n",
    "    if (min(len(a), len(b)) <= 2):\n",
    "      return 1.0 # no two-letter words should be cognates\n",
    "\n",
    "    if (min(len(a), len(b)) <= 5):\n",
    "      # Must be a near-perfect match if less than or equal to 5 chars\n",
    "      if dist > 1: # if edit distance is more than one\n",
    "        return 1.0\n",
    "      else:\n",
    "        return 0.0\n",
    "\n",
    "    assert (len(a) != 0 and len(b) != 0), \"ERROR: one of the words is of length zero\"\n",
    "    avg_len = (len(a) + len(b)) / 2\n",
    "    edit_ratio = round(dist / avg_len, 2)\n",
    "\n",
    "    return edit_ratio\n",
    "def strip_accents(s):\n",
    "   return ''.join(c for c in unicodedata.normalize('NFD', s)\n",
    "                  if unicodedata.category(c) != 'Mn')"
   ]
  },
  {
   "cell_type": "code",
   "execution_count": 40,
   "id": "d1c50b51-b303-40db-81e8-0ee2cc96a732",
   "metadata": {},
   "outputs": [
    {
     "data": {
      "text/plain": [
       "1.0"
      ]
     },
     "execution_count": 40,
     "metadata": {},
     "output_type": "execute_result"
    }
   ],
   "source": [
    "get_edit_ratio(\"les\", \"the\")"
   ]
  }
 ],
 "metadata": {
  "kernelspec": {
   "display_name": "Python 3 (ipykernel)",
   "language": "python",
   "name": "python3"
  },
  "language_info": {
   "codemirror_mode": {
    "name": "ipython",
    "version": 3
   },
   "file_extension": ".py",
   "mimetype": "text/x-python",
   "name": "python",
   "nbconvert_exporter": "python",
   "pygments_lexer": "ipython3",
   "version": "3.11.4"
  }
 },
 "nbformat": 4,
 "nbformat_minor": 5
}
